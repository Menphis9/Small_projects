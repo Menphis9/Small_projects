{
 "cells": [
  {
   "cell_type": "markdown",
   "metadata": {},
   "source": [
    "# 1. Librería requests\n",
    "\n",
    "Esta librería nos va a permitir simular peticiones web y poder trabajar con ellas simulando nuestros \"clicks\" en el ordenador o incluso usar una API.\n",
    "\n",
    "Para importarla haremos un `import requests`.\n",
    "\n",
    "Las llamadas tipicas son: `requests.get()` y `requests.post()`.\n",
    "También podemos usar otra llamada generica que sea `requests.Request('METODO')`.\n",
    "\n",
    "Otra opcion es crear una \"session\" la cual nos mantendrá las cookies y demás caracteristicas de las peticiones, como tokens especiales y similares, para ello haremos uso de `requests.Session()`.\n",
    "\n",
    "Los códigos de estado nos dicen si la petición ha fallado, ha funcionado o si el servidor ha fallado.\n",
    "\n",
    "Estos codigos son normalmente genéricos, por ejemplo el típico 404 significa no se ha encontrado.\n",
    "\n",
    "Cuando queremos leer texto en plano usaremos `.text`, sin embargo, los datos son un diccionario usaremos `.json()`"
   ]
  },
  {
   "cell_type": "code",
   "execution_count": 22,
   "metadata": {
    "scrolled": false
   },
   "outputs": [
    {
     "name": "stdout",
     "output_type": "stream",
     "text": [
      "{\n",
      "  \"message\": \"Hello World!\"\n",
      "}\n",
      "\n",
      "Hello World!\n"
     ]
    }
   ],
   "source": [
    "# Vamos a realizar un programa que importe requests y vamos a recibir nuestro primer hello world\n",
    "import requests\n",
    "headers = {'Accept': 'application/json'}\n",
    "r = requests.get('https://sandbox.api.service.nhs.uk/hello-world/hello/world',headers=headers)\n",
    "# Eso nos va a devolver en r todo el estado de la peticion y usaremos las siguientes funciones:\n",
    "\n",
    "print(r.text) #esto es la peticion tal cual la recibes en texto plano\n",
    "variable = r.json() # En caso de que sea un diccionario lo recogeremos así\n",
    "# La diferencia es la siguiente, podemos hacer un r.json() a una variable y leer el campo message\n",
    "print(variable['message'])"
   ]
  },
  {
   "cell_type": "markdown",
   "metadata": {},
   "source": [
    "# 1.1 Llamadas a APIs:\n",
    "\n",
    "Vamos a sacar el tiempo en nuestra provincia (Navarra)\n",
    "\n",
    "Mas info: https://www.el-tiempo.net/api\n"
   ]
  },
  {
   "cell_type": "code",
   "execution_count": 103,
   "metadata": {},
   "outputs": [
    {
     "name": "stdout",
     "output_type": "stream",
     "text": [
      "dict_keys(['title', 'today', 'tomorrow', 'ciudades', 'provincia', 'comautonoma', 'breadcrumb', 'metadescripcion', 'keywords'])\n",
      "{'p': 'Nuboso o cubierto disminuyendo a intervalos nubosos a partir del mediodía, excepto en el tercio sur, donde se esperan cielos poco nubosos. Lluvias débiles y algún chubasco ocasional en Pirineos y noroeste de madrugada. Temperaturas mínimas en ligero ascenso, más acusado en la Ribera, y máximas en descenso, que será notable en el tercio norte y ligero o sin cambios en el tercio sur. Las mínimas tendrán lugar al final del día en muchas zonas. Heladas débiles dispersas en el extremo occidental y en Pirineos. Viento flojo de del noroeste, algo más intenso en la Ribera.'}\n"
     ]
    }
   ],
   "source": [
    "URL_BASE = 'https://www.el-tiempo.net/api/json/v2/'\n",
    "\n",
    "r1 = requests.get(URL_BASE + 'provincias/31').json()\n",
    "# Comprobamos que valores tiene:\n",
    "print(r1.keys())\n",
    "# imprimimos el resumen de hoy\n",
    "print(r1['today'])"
   ]
  },
  {
   "cell_type": "markdown",
   "metadata": {},
   "source": [
    "Conseguid el tiempo en pamplona usando la API Postdata: la ID del municipio son los primeros 5 caracteres de CODIGOINE, tendréis que buscarlo vosotros :)"
   ]
  },
  {
   "cell_type": "code",
   "execution_count": 23,
   "metadata": {},
   "outputs": [
    {
     "name": "stdout",
     "output_type": "stream",
     "text": [
      "Datos recividos\n",
      "dict_keys(['municipio', 'fecha', 'stateSky', 'temperatura_actual', 'temperaturas', 'humedad', 'viento', 'lluvia', 'imagen', 'pronostico', 'proximos_dias', 'breadcrumb', 'keywords'])\n"
     ]
    }
   ],
   "source": [
    "## RELLENAR\n",
    "URL_BASE = 'https://www.el-tiempo.net/api/json/v2/'\n",
    "ID='31015'\n",
    "CODPROV=ID[:2]\n",
    "\n",
    "r2=requests.get(URL_BASE+'provincias/'+CODPROV+'/municipios/'+ID)\n",
    "if r.ok: print('Datos recividos')\n",
    "else: print('Error en la transmision de datos')\n",
    "rj2=r2.json()\n",
    "print(rj2.keys())\n"
   ]
  },
  {
   "cell_type": "code",
   "execution_count": 109,
   "metadata": {},
   "outputs": [
    {
     "data": {
      "text/plain": [
       "dict_keys(['@attributes', 'estado_cielo', 'precipitacion', 'prob_precipitacion', 'prob_tormenta', 'nieve', 'prob_nieve', 'temperatura', 'sens_termica', 'humedad_relativa', 'viento', 'racha_max'])"
      ]
     },
     "execution_count": 109,
     "metadata": {},
     "output_type": "execute_result"
    }
   ],
   "source": [
    "#for i in rj:\n",
    "#    print(i.capitalize()+\":\",rj[i])\n",
    "#rj2['pronostico']['hoy'].keys() #Poniendo rj['ATRIBUTO'] con ATRIBUTO lo que quieras saber te devuelve esa informacion\n",
    "rj2['pronostico']['manana'].keys()"
   ]
  },
  {
   "cell_type": "code",
   "execution_count": 101,
   "metadata": {},
   "outputs": [
    {
     "data": {
      "text/plain": [
       "dict_keys(['@attributes', 'prob_precipitacion', 'cota_nieve_prov', 'estado_cielo', 'viento', 'racha_max', 'temperatura', 'sens_termica', 'humedad_relativa', 'uv_max'])"
      ]
     },
     "execution_count": 101,
     "metadata": {},
     "output_type": "execute_result"
    }
   ],
   "source": [
    "rj2['proximos_dias'][0].keys()"
   ]
  },
  {
   "cell_type": "markdown",
   "metadata": {},
   "source": [
    "# 1.2 Intentad engañar al servidor\n",
    "\n",
    "Python nos permite modificar toda la petición web, intentad engañar al servidor diciendole que estais usando un `User-Agent` llamado `Administrador`"
   ]
  },
  {
   "cell_type": "code",
   "execution_count": 5,
   "metadata": {},
   "outputs": [
    {
     "name": "stdout",
     "output_type": "stream",
     "text": [
      "True\n",
      "True\n"
     ]
    }
   ],
   "source": [
    "## RELLENAR\n",
    "URL_BASE = 'https://www.el-tiempo.net/api/json/v2/'\n",
    "headers={'User-Agent':'Administrador'}\n",
    "\n",
    "r=requests.get(URL_BASE+'provincias/'+CODPROV+'/municipios/'+ID,headers=headers)\n",
    "print(r.ok)\n",
    "rj=r.json()\n",
    "print(rj.keys()==rj2.keys()) #La API admite el user-agent \"Administrador\", pero no veo ninguna diferencia en la información que nos devuelve"
   ]
  },
  {
   "cell_type": "markdown",
   "metadata": {},
   "source": [
    "# 2. Decoradores de python\n",
    "\n",
    "Los decoradores son funciones que toman otra funcion como argumento y devuelven otra funcion. Un jaleo si...\n",
    "\n",
    "Pero resulta que pueden llegar a ser muy utiles en un futuro. Veamos un pequeño ejemplo\n"
   ]
  },
  {
   "cell_type": "code",
   "execution_count": 6,
   "metadata": {},
   "outputs": [
    {
     "name": "stdout",
     "output_type": "stream",
     "text": [
      "[3, 7, 11, 15]\n"
     ]
    }
   ],
   "source": [
    "# Creamos una funcion que sume dos numeros\n",
    "# Resulta que queremos meterle una lista de listas de numeros en vez de solo dos valores.\n",
    "# Para ello creamos otra funcion que tome como argumento sumar y lo implemente.\n",
    "\n",
    "def decorador_sumar(funcion):\n",
    "    def interna(lista_de_valores):\n",
    "        devolver = []\n",
    "        for i in lista_de_valores:\n",
    "            devolver.append(funcion(i[0],i[1]))\n",
    "        return devolver\n",
    "    return interna\n",
    "\n",
    "@decorador_sumar\n",
    "def sumar(a,b):\n",
    "    return a+b\n",
    "\n",
    "listado = [(1,2),(3,4),(5,6),(7,8)]\n",
    "\n",
    "print(sumar(listado))\n",
    "# sumar = decorador_sumar(sumar)\n"
   ]
  },
  {
   "cell_type": "markdown",
   "metadata": {},
   "source": [
    "# 2.1 Ejercicio\n",
    "\n",
    "Cread una funcion que eleve un numero con otro y usad el decorador para poder lanzarle una lista de tuplas. A ver si conseguis cambiar el codigo del for por un generador :)"
   ]
  },
  {
   "cell_type": "code",
   "execution_count": 7,
   "metadata": {},
   "outputs": [
    {
     "name": "stdout",
     "output_type": "stream",
     "text": [
      "[1, 81, 15625, 5764801]\n"
     ]
    }
   ],
   "source": [
    "## Rellenar\n",
    "@decorador_sumar\n",
    "def elevar(a,b):\n",
    "    return a**b\n",
    "\n",
    "print(elevar(listado))\n",
    "#Este método funciona bien. Usando el decorador con el bucle for que hemos definido antes"
   ]
  },
  {
   "cell_type": "code",
   "execution_count": 10,
   "metadata": {},
   "outputs": [
    {
     "name": "stdout",
     "output_type": "stream",
     "text": [
      "[64, 2187, 3125, 40353607]\n"
     ]
    }
   ],
   "source": [
    "#Ahora vamos a intentarlo mediante un generador\n",
    "#Para ello vamos a definir otro decorador diferente\n",
    "def decorador_elevar(funcion):\n",
    "    def interna(listado_de_valores):\n",
    "        def generar(): #Este será el generador que sustituye al for\n",
    "            i=1\n",
    "            for i in listado_de_valores:\n",
    "                yield funcion(i[0],i[1])\n",
    "        devuelve=[]\n",
    "        for x in generar(): #En este bucle for utilizamos el generador para generar la lista de resultados\n",
    "            devuelve.append(x)\n",
    "        return devuelve\n",
    "    return interna\n",
    "\n",
    "#Utilizamos el decorador nuevo para aplicarlo a la funcion que nos interesa\n",
    "@decorador_elevar\n",
    "def elevar2(a,b):\n",
    "    return a**b\n",
    "\n",
    "#Probamos si la funcion+decorador funciona mediante un generador\n",
    "listado = [(8,2),(3,7),(5,5),(7,9)]\n",
    "print(elevar2(listado))\n",
    "\n",
    "#Por lo visto funciona, pero no estoy seguro de que sea más eficiente que la versión anterior.\n",
    "#Por lo pronto es una forma más complicada de hacer lo mismo, ya que tienes que usar un bucle for igualmente."
   ]
  },
  {
   "cell_type": "markdown",
   "metadata": {},
   "source": [
    "Existe otro decorador muy curioso, que ya esta implementado de serie en `functools` de python, se llama `lru_cache`. Este decorador nos permite implementar funciones recursivas con cache para evitar calcularlas dos veces!"
   ]
  },
  {
   "cell_type": "code",
   "execution_count": 2,
   "metadata": {},
   "outputs": [
    {
     "name": "stdout",
     "output_type": "stream",
     "text": [
      "102334155\n"
     ]
    }
   ],
   "source": [
    "# codigo de ejemplo:\n",
    "\n",
    "def memoria(funcion):\n",
    "    memoria = {}\n",
    "    def ayudante(x):\n",
    "        if x not in memoria:\n",
    "            memoria[x] = funcion(x)\n",
    "        return memoria[x]\n",
    "    return ayudante\n",
    "\n",
    "@memoria\n",
    "def fibonnaci(n):\n",
    "    if n == 0:\n",
    "        return 0\n",
    "    elif n == 1:\n",
    "        return 1\n",
    "    else:\n",
    "        return fibonnaci(n-1) + fibonnaci(n-2)\n",
    "\n",
    "print(fibonnaci(40))"
   ]
  },
  {
   "cell_type": "code",
   "execution_count": 12,
   "metadata": {},
   "outputs": [
    {
     "name": "stdout",
     "output_type": "stream",
     "text": [
      "280571172992510140037611932413038677189525 CacheInfo(hits=198, misses=201, maxsize=None, currsize=201)\n"
     ]
    }
   ],
   "source": [
    "# codigo usando el built in Memoize\n",
    "import functools\n",
    "\n",
    "# El max size es el maximo numero de elementos en memoria\n",
    "@functools.lru_cache(maxsize=None)\n",
    "def fib(n):\n",
    "    if n == 0:\n",
    "        return 0\n",
    "    elif n == 1:\n",
    "        return 1\n",
    "    else:\n",
    "        return fib(n-1) + fib(n-2)\n",
    "\n",
    "    \n",
    "valor=fib(200)\n",
    "print(valor,fib.cache_info())"
   ]
  },
  {
   "cell_type": "code",
   "execution_count": 26,
   "metadata": {},
   "outputs": [
    {
     "name": "stdout",
     "output_type": "stream",
     "text": [
      "[1, 1, 2, 6, 24, 120, 720, 5040, 40320, 362880, 3628800, 39916800, 479001600, 6227020800, 87178291200, 1307674368000, 20922789888000, 355687428096000, 6402373705728000, 121645100408832000] CacheInfo(hits=18, misses=20, maxsize=30, currsize=20)\n"
     ]
    }
   ],
   "source": [
    "# Ejercicio -> Cread lo una funcion recursiva de un numero factorial\n",
    "@functools.lru_cache(maxsize=30)\n",
    "def factorial(n):\n",
    "    if n<=1:\n",
    "        return 1\n",
    "    else:\n",
    "        return factorial(n-1)*n\n",
    "\n",
    "valores=[factorial(i) for i in range(20)]\n",
    "print(valores,factorial.cache_info())"
   ]
  },
  {
   "cell_type": "markdown",
   "metadata": {},
   "source": [
    "[1, 1, 2, 6, 24, 120, 720, 5040, 40320, 362880, 3628800, 39916800, 479001600, 6227020800, 87178291200, 1307674368000, 20922789888000, 355687428096000, 6402373705728000, 121645100408832000]\n",
    "CacheInfo(hits=18, misses=20, maxsize=None, currsize=20)"
   ]
  }
 ],
 "metadata": {
  "kernelspec": {
   "display_name": "Python 3",
   "language": "python",
   "name": "python3"
  },
  "language_info": {
   "codemirror_mode": {
    "name": "ipython",
    "version": 3
   },
   "file_extension": ".py",
   "mimetype": "text/x-python",
   "name": "python",
   "nbconvert_exporter": "python",
   "pygments_lexer": "ipython3",
   "version": "3.9.6"
  }
 },
 "nbformat": 4,
 "nbformat_minor": 4
}
